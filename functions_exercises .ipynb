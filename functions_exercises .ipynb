{
 "cells": [
  {
   "cell_type": "code",
   "execution_count": 1,
   "id": "211d4e6a",
   "metadata": {},
   "outputs": [
    {
     "data": {
      "text/plain": [
       "' 1. Define a function named is_two. \\nIt should accept one input and return True \\nif the passed input is either the number or the string 2, False otherwise.'"
      ]
     },
     "execution_count": 1,
     "metadata": {},
     "output_type": "execute_result"
    }
   ],
   "source": [
    "''' 1. Define a function named is_two. \n",
    "It should accept one input and return True \n",
    "if the passed input is either the number or the string 2, False otherwise.'''"
   ]
  },
  {
   "cell_type": "code",
   "execution_count": 2,
   "id": "44b694bb",
   "metadata": {},
   "outputs": [
    {
     "data": {
      "text/plain": [
       "False"
      ]
     },
     "execution_count": 2,
     "metadata": {},
     "output_type": "execute_result"
    }
   ],
   "source": [
    "def is_two(one_input):\n",
    "    if one_input == 2 or one_input =='2':\n",
    "        return True\n",
    "    else:\n",
    "        return False\n",
    "is_two('1')\n"
   ]
  },
  {
   "cell_type": "code",
   "execution_count": 3,
   "id": "50915c05",
   "metadata": {},
   "outputs": [
    {
     "data": {
      "text/plain": [
       "' 2.  Define a function named is_vowel. It should return True if the passed string is a vowel, False otherwise.'"
      ]
     },
     "execution_count": 3,
     "metadata": {},
     "output_type": "execute_result"
    }
   ],
   "source": [
    "''' 2.  Define a function named is_vowel. It should return True if the passed string is a vowel, False otherwise.'''"
   ]
  },
  {
   "cell_type": "code",
   "execution_count": 4,
   "id": "58694850",
   "metadata": {},
   "outputs": [
    {
     "name": "stdout",
     "output_type": "stream",
     "text": [
      "True\n"
     ]
    }
   ],
   "source": [
    "def is_vowel(words):\n",
    "     return words.lower()in 'aeiou'\n",
    "print(is_vowel('a'))\n"
   ]
  },
  {
   "cell_type": "code",
   "execution_count": 5,
   "id": "e6fefacd",
   "metadata": {},
   "outputs": [
    {
     "data": {
      "text/plain": [
       "' 3. Define a function named is_consonant. It should return True if the passed string is a consonant, False otherwise. \\nUse your is_vowel function to accomplish this.'"
      ]
     },
     "execution_count": 5,
     "metadata": {},
     "output_type": "execute_result"
    }
   ],
   "source": [
    "''' 3. Define a function named is_consonant. It should return True if the passed string is a consonant, False otherwise. \n",
    "Use your is_vowel function to accomplish this.'''"
   ]
  },
  {
   "cell_type": "code",
   "execution_count": 6,
   "id": "b36b5c9b",
   "metadata": {},
   "outputs": [
    {
     "name": "stdout",
     "output_type": "stream",
     "text": [
      "True\n"
     ]
    }
   ],
   "source": [
    "def is_consonant(words):\n",
    "    return words.lower() not in 'aeiou'\n",
    "print(is_consonant('p'))\n",
    "    "
   ]
  },
  {
   "cell_type": "code",
   "execution_count": 7,
   "id": "81ec5f44",
   "metadata": {},
   "outputs": [],
   "source": [
    "def is_consonant(words):\n",
    "    return not is_vowel(words)\n"
   ]
  },
  {
   "cell_type": "code",
   "execution_count": 8,
   "id": "57f36e70",
   "metadata": {},
   "outputs": [
    {
     "data": {
      "text/plain": [
       "'4.  Define a function that accepts a string that is a word. \\nThe function should capitalize the first letter of the word if the word starts with a consonant.'"
      ]
     },
     "execution_count": 8,
     "metadata": {},
     "output_type": "execute_result"
    }
   ],
   "source": [
    "'''4.  Define a function that accepts a string that is a word. \n",
    "The function should capitalize the first letter of the word if the word starts with a consonant.'''"
   ]
  },
  {
   "cell_type": "code",
   "execution_count": 9,
   "id": "b19c0f03",
   "metadata": {},
   "outputs": [
    {
     "name": "stdout",
     "output_type": "stream",
     "text": [
      "Ball\n"
     ]
    }
   ],
   "source": [
    "def capitalize_consonant(word):\n",
    "    if word[0]not in ['a','e','i','o','u']:\n",
    "        capitalize_word = word.capitalize()\n",
    "        return capitalize_word\n",
    "print(capitalize_consonant('ball'))\n",
    "    \n",
    "    "
   ]
  },
  {
   "cell_type": "code",
   "execution_count": 10,
   "id": "fb013cf3",
   "metadata": {},
   "outputs": [],
   "source": [
    "def capitalize_consonant(word):\n",
    "    if is_consonant(word(0))==True:\n",
    "        word= word.capatalize\n",
    "        "
   ]
  },
  {
   "cell_type": "code",
   "execution_count": 11,
   "id": "e19c70c9",
   "metadata": {},
   "outputs": [
    {
     "data": {
      "text/plain": [
       "' 5. Define a function named calculate_tip. It should accept a tip percentage (a number between 0 and 1) and\\nthe bill total, and return the amount to tip.'"
      ]
     },
     "execution_count": 11,
     "metadata": {},
     "output_type": "execute_result"
    }
   ],
   "source": [
    "''' 5. Define a function named calculate_tip. It should accept a tip percentage (a number between 0 and 1) and\n",
    "the bill total, and return the amount to tip.'''"
   ]
  },
  {
   "cell_type": "code",
   "execution_count": 12,
   "id": "d21fc666",
   "metadata": {},
   "outputs": [
    {
     "name": "stdout",
     "output_type": "stream",
     "text": [
      "50\n"
     ]
    }
   ],
   "source": [
    "def calculate_tip(tip_percentage, bill_total):\n",
    "    if tip_percentage <=1:\n",
    "        tip = (tip_percentage*bill_total+ bill_total)\n",
    "        return tip\n",
    "print(calculate_tip(1,25))"
   ]
  },
  {
   "cell_type": "code",
   "execution_count": 13,
   "id": "4771c49c",
   "metadata": {},
   "outputs": [
    {
     "data": {
      "text/plain": [
       "' 6. Define a function named apply_discount. It should accept a original price, \\nand a discount percentage, and return the price after the discount is applied.'"
      ]
     },
     "execution_count": 13,
     "metadata": {},
     "output_type": "execute_result"
    }
   ],
   "source": [
    "''' 6. Define a function named apply_discount. It should accept a original price, \n",
    "and a discount percentage, and return the price after the discount is applied.'''"
   ]
  },
  {
   "cell_type": "code",
   "execution_count": 20,
   "id": "c0bf99f9",
   "metadata": {},
   "outputs": [
    {
     "data": {
      "text/plain": [
       "36.0"
      ]
     },
     "execution_count": 20,
     "metadata": {},
     "output_type": "execute_result"
    }
   ],
   "source": [
    "def apply_discount(original_price, discount_percentage):\n",
    "    discount = original_price - (original_price * (discount_percentage/100))\n",
    "    return discount \n",
    "apply_discount(40,10)"
   ]
  },
  {
   "cell_type": "code",
   "execution_count": null,
   "id": "2bbe28f2",
   "metadata": {},
   "outputs": [],
   "source": [
    "''' 7. Define a function named handle_commas. It should accept \n",
    "a string that is a number that contains commas\n",
    "in it as input, and return a number as output.'''"
   ]
  },
  {
   "cell_type": "code",
   "execution_count": 21,
   "id": "220d9d1d",
   "metadata": {},
   "outputs": [
    {
     "data": {
      "text/plain": [
       "5000000"
      ]
     },
     "execution_count": 21,
     "metadata": {},
     "output_type": "execute_result"
    }
   ],
   "source": [
    "def handle_commas(number):\n",
    "    delete_commas= number.replace(',', '')\n",
    "    return int(delete_commas)\n",
    "handle_commas ('50,00,000')"
   ]
  },
  {
   "cell_type": "code",
   "execution_count": null,
   "id": "e64ee0f1",
   "metadata": {},
   "outputs": [],
   "source": [
    "''' 8. Define a function named get_letter_grade. \n",
    "It should accept a number and return the letter grade associated with that number (A-F).'''"
   ]
  },
  {
   "cell_type": "code",
   "execution_count": 22,
   "id": "9cbdfa25",
   "metadata": {},
   "outputs": [
    {
     "data": {
      "text/plain": [
       "'B '"
      ]
     },
     "execution_count": 22,
     "metadata": {},
     "output_type": "execute_result"
    }
   ],
   "source": [
    "def get_letter_grade(score):\n",
    "    if score >= 90:\n",
    "        return 'A'\n",
    "    elif score >= 80:\n",
    "        return 'B '\n",
    "    elif score >=70:\n",
    "        return 'C'\n",
    "    elif score >= 60:\n",
    "        return 'D'\n",
    "    else:\n",
    "        return 'F'\n",
    "get_letter_grade(85)\n",
    "    "
   ]
  },
  {
   "cell_type": "code",
   "execution_count": null,
   "id": "61b9f8ef",
   "metadata": {},
   "outputs": [],
   "source": [
    "''' 9. Define a function named remove_vowels \n",
    "that accepts a string and returns a string with all the vowels removed.'''"
   ]
  },
  {
   "cell_type": "code",
   "execution_count": 23,
   "id": "33f40652",
   "metadata": {},
   "outputs": [
    {
     "name": "stdout",
     "output_type": "stream",
     "text": [
      " ht typng thngs \n"
     ]
    }
   ],
   "source": [
    "def remove_vowels(words):\n",
    "    vowels = ['a','e','i','o','u']\n",
    "    result =[ word for word in words if word.lower() not in vowels]\n",
    "    new_result= ''.join(result)\n",
    "    print(new_result)\n",
    "\n",
    "words= 'i hate typing things '\n",
    "remove_vowels(words)\n",
    "        "
   ]
  },
  {
   "cell_type": "code",
   "execution_count": null,
   "id": "2d4737ba",
   "metadata": {},
   "outputs": [],
   "source": [
    "''' 10. Define a function named normalize_name. It should accept a string and return a valid python identifier, that is:\n",
    "anything that is not a valid python identifier should be removed\n",
    "leading and trailing whitespace should be removed\n",
    "everything should be lowercase\n",
    "spaces should be replaced with underscores\n",
    "for example:\n",
    "Name will become name\n",
    "First Name will become first_name\n",
    "% Completed will become completed'''"
   ]
  },
  {
   "cell_type": "code",
   "execution_count": 33,
   "id": "f6b9d9f3",
   "metadata": {},
   "outputs": [
    {
     "data": {
      "text/plain": [
       "''"
      ]
     },
     "execution_count": 33,
     "metadata": {},
     "output_type": "execute_result"
    }
   ],
   "source": [
    "def noramlize_name(name):\n",
    "    \n",
    "    \n",
    "    # remove leading and trailing whitespace( use.strip)\n",
    "    # everything should be in lower (use.lower)\n",
    "    # replace space with underscore. replace ('', '_')\n",
    "    # remove % \n",
    "    \n",
    "    \n",
    "    def normalize_name(name):\n",
    "    new = ''\n",
    "    for character in name:\n",
    "        if character.lower() in character== ' ':\n",
    "            new += character.lower()\n",
    "    new= new.strip()\n",
    "    for word in new:\n",
    "        if character == ' ':\n",
    "            new=new.replace(' ', '_')\n",
    "    return new\n",
    "normalize_name('Name')\n",
    "normalize_name('First Name')\n",
    "normalize_name('% completed')\n"
   ]
  },
  {
   "cell_type": "code",
   "execution_count": 27,
   "id": "cef87b24",
   "metadata": {},
   "outputs": [
    {
     "data": {
      "text/plain": [
       "' 11. Write a function named cumulative_sum that accepts a list of numbers and returns a list that is the cumulative sum of the numbers in the list.\\ncumulative_sum([1, 1, 1]) returns [1, 2, 3]\\ncumulative_sum([1, 2, 3, 4]) returns [1, 3, 6, 10]'"
      ]
     },
     "execution_count": 27,
     "metadata": {},
     "output_type": "execute_result"
    }
   ],
   "source": [
    "''' 11. Write a function named cumulative_sum that accepts a list of numbers and returns a list that is the cumulative sum of the numbers in the list.\n",
    "cumulative_sum([1, 1, 1]) returns [1, 2, 3]\n",
    "cumulative_sum([1, 2, 3, 4]) returns [1, 3, 6, 10]'''"
   ]
  },
  {
   "cell_type": "code",
   "execution_count": 34,
   "id": "79f610c1",
   "metadata": {},
   "outputs": [
    {
     "name": "stdout",
     "output_type": "stream",
     "text": [
      "[1, 3, 6, 10]\n"
     ]
    }
   ],
   "source": [
    "def cumulative_sum(new_list):\n",
    "    \n",
    "    new_cumulative_list = []\n",
    "    \n",
    "    length = len(new_list)\n",
    "    \n",
    "    new_cumulative_list = [sum(new_list[0:i:1]) for i in range (0, length +1 )]\n",
    "    \n",
    "    return new_cumulative_list[1:]\n",
    "\n",
    "\n",
    "new_list= [1,1,1]\n",
    "new_list = [1,2,3,4]\n",
    "\n",
    "\n",
    "print(cumulative_sum(new_list))\n",
    "\n",
    "\n"
   ]
  },
  {
   "cell_type": "code",
   "execution_count": null,
   "id": "a71f7c14",
   "metadata": {},
   "outputs": [],
   "source": [
    "''' Create a function named twelveto24. It should accept a string in the format 10:45am or 4:30pm and return a string that is the representation of the time in a 24-hour format.\n",
    "Bonus write a function that does the opposite.'''"
   ]
  },
  {
   "cell_type": "code",
   "execution_count": 39,
   "id": "3491104a",
   "metadata": {},
   "outputs": [
    {
     "data": {
      "text/plain": [
       "'1630'"
      ]
     },
     "execution_count": 39,
     "metadata": {},
     "output_type": "execute_result"
    }
   ],
   "source": [
    "\n",
    "def twelveto24(time):\n",
    "    \n",
    "    # if its midnight it shoud change to 00:..\n",
    "    if time[-2:]== \"AM\" and time [:2]==\"12\":\n",
    "        return \"00\"+time[2:2]\n",
    "    # remove am \n",
    "    elif time[-2:]==\"AM\":\n",
    "        return time[:-2]\n",
    "    \n",
    "    \n",
    "    elif time[-2:]==\"PM\" and time[:2]==\"12\":\n",
    "        return time[:-2]\n",
    "    \n",
    "     # if its after 1pm it should add 12 to hours\n",
    "    else:\n",
    "        return str(int(time[:1])+12)+time[2:8]\n",
    "    \n",
    "    # if its 12:45 it should remain same \n",
    "    \n",
    "    # viceversa \n",
    "    \n",
    "twelveto24(\"10:45AM\")\n",
    "twelveto24(\"4:30\")"
   ]
  },
  {
   "cell_type": "code",
   "execution_count": null,
   "id": "d4fc38d5",
   "metadata": {},
   "outputs": [],
   "source": [
    "''' Create a function named col_index. It should accept a spreadsheet column name, and return the index number of the column.\n",
    "col_index('A') returns 1\n",
    "col_index('B') returns 2\n",
    "col_index('AA') returns 27'''"
   ]
  },
  {
   "cell_type": "code",
   "execution_count": null,
   "id": "75734d3b",
   "metadata": {},
   "outputs": [],
   "source": [
    "def col_index()"
   ]
  },
  {
   "cell_type": "code",
   "execution_count": null,
   "id": "285aa0e6",
   "metadata": {},
   "outputs": [],
   "source": []
  }
 ],
 "metadata": {
  "kernelspec": {
   "display_name": "Python 3",
   "language": "python",
   "name": "python3"
  },
  "language_info": {
   "codemirror_mode": {
    "name": "ipython",
    "version": 3
   },
   "file_extension": ".py",
   "mimetype": "text/x-python",
   "name": "python",
   "nbconvert_exporter": "python",
   "pygments_lexer": "ipython3",
   "version": "3.8.8"
  }
 },
 "nbformat": 4,
 "nbformat_minor": 5
}
