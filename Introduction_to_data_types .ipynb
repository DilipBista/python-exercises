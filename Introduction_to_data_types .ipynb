{
 "cells": [
  {
   "cell_type": "markdown",
   "id": "9fd18ac7",
   "metadata": {},
   "source": [
    "# Data Types, Operators, and Variables \n"
   ]
  },
  {
   "cell_type": "code",
   "execution_count": null,
   "id": "d52c5e0e",
   "metadata": {},
   "outputs": [],
   "source": [
    "1+1"
   ]
  },
  {
   "cell_type": "code",
   "execution_count": null,
   "id": "a7ee5905",
   "metadata": {},
   "outputs": [],
   "source": [
    "'one'+'one'"
   ]
  },
  {
   "cell_type": "code",
   "execution_count": null,
   "id": "0d18394f",
   "metadata": {},
   "outputs": [],
   "source": [
    "type(123)"
   ]
  },
  {
   "cell_type": "code",
   "execution_count": null,
   "id": "05de27c0",
   "metadata": {},
   "outputs": [],
   "source": [
    "type('123')"
   ]
  },
  {
   "cell_type": "code",
   "execution_count": null,
   "id": "1632a0d6",
   "metadata": {},
   "outputs": [],
   "source": [
    "type(123.1)"
   ]
  },
  {
   "cell_type": "code",
   "execution_count": null,
   "id": "147a2d67",
   "metadata": {},
   "outputs": [],
   "source": [
    "type(True)   # TRUE and False are case sensetive "
   ]
  },
  {
   "cell_type": "code",
   "execution_count": null,
   "id": "a7273126",
   "metadata": {},
   "outputs": [],
   "source": [
    "type([1,2,3])"
   ]
  },
  {
   "cell_type": "code",
   "execution_count": null,
   "id": "9e3003b2",
   "metadata": {},
   "outputs": [],
   "source": [
    "(1,2,3)"
   ]
  },
  {
   "cell_type": "code",
   "execution_count": null,
   "id": "41698d72",
   "metadata": {},
   "outputs": [],
   "source": [
    "type((1,2,3))"
   ]
  },
  {
   "cell_type": "code",
   "execution_count": null,
   "id": "e8f5c668",
   "metadata": {},
   "outputs": [],
   "source": [
    "type(None)"
   ]
  },
  {
   "cell_type": "code",
   "execution_count": null,
   "id": "50207b37",
   "metadata": {},
   "outputs": [],
   "source": [
    "{1:2}"
   ]
  },
  {
   "cell_type": "code",
   "execution_count": null,
   "id": "cf7b8c9f",
   "metadata": {},
   "outputs": [],
   "source": [
    "type({1:2}) # dictionaries has keys and values "
   ]
  },
  {
   "cell_type": "markdown",
   "id": "1aef3270",
   "metadata": {},
   "source": [
    "# Variables \n"
   ]
  },
  {
   "cell_type": "markdown",
   "id": "714a71be",
   "metadata": {},
   "source": [
    "# Takeways \n",
    "- if you want to use a value again, it needs to be stored as a variable\n",
    "- A variable will hold its value until it is explictly told to change \n",
    "- variables can be used in an expression in the same way that the underliune value would be used in that expression\n",
    "-"
   ]
  },
  {
   "cell_type": "code",
   "execution_count": null,
   "id": "14b4789a",
   "metadata": {},
   "outputs": [],
   "source": [
    "# aggignemt of a calue using the = assignment operator \n",
    "current_month = 'october'"
   ]
  },
  {
   "cell_type": "code",
   "execution_count": null,
   "id": "e1dbdb3e",
   "metadata": {},
   "outputs": [],
   "source": []
  },
  {
   "cell_type": "code",
   "execution_count": null,
   "id": "34d7b515",
   "metadata": {},
   "outputs": [],
   "source": [
    "print(current_month) "
   ]
  },
  {
   "cell_type": "code",
   "execution_count": null,
   "id": "8293ecee",
   "metadata": {},
   "outputs": [],
   "source": [
    "print(current_month)"
   ]
  },
  {
   "cell_type": "code",
   "execution_count": null,
   "id": "6326b139",
   "metadata": {},
   "outputs": [],
   "source": [
    "#escape + m = markdown ( Keyboard shortcuts)"
   ]
  },
  {
   "cell_type": "code",
   "execution_count": null,
   "id": "4071920a",
   "metadata": {},
   "outputs": [],
   "source": [
    "# number as variable \n"
   ]
  },
  {
   "cell_type": "code",
   "execution_count": null,
   "id": "a50c1532",
   "metadata": {},
   "outputs": [],
   "source": [
    "optimal_scoops_of_ice_cream = 2 \n",
    "\n"
   ]
  },
  {
   "cell_type": "code",
   "execution_count": null,
   "id": "344e5f7f",
   "metadata": {},
   "outputs": [],
   "source": [
    "print(optimal_scoops_of_ice_cream)"
   ]
  },
  {
   "cell_type": "code",
   "execution_count": null,
   "id": "29009a5e",
   "metadata": {},
   "outputs": [],
   "source": [
    "optimal_scoops_of_ice_cream + 1"
   ]
  },
  {
   "cell_type": "code",
   "execution_count": null,
   "id": "569647d6",
   "metadata": {},
   "outputs": [],
   "source": [
    "optimal_scoops_of_ice_cream\n"
   ]
  },
  {
   "cell_type": "code",
   "execution_count": null,
   "id": "7ebb736a",
   "metadata": {},
   "outputs": [],
   "source": [
    "optimal_scoops_of_ice_cream = optimal_scoops_of_ice_cream +1"
   ]
  },
  {
   "cell_type": "code",
   "execution_count": null,
   "id": "d802f799",
   "metadata": {},
   "outputs": [],
   "source": [
    "optimal_scoops_of_ice_cream"
   ]
  },
  {
   "cell_type": "code",
   "execution_count": null,
   "id": "0a1e1976",
   "metadata": {},
   "outputs": [],
   "source": [
    "optimal_scoops_of_ice_cream = optimal_scoops_of_ice_cream +1"
   ]
  },
  {
   "cell_type": "code",
   "execution_count": null,
   "id": "a1141cd6",
   "metadata": {},
   "outputs": [],
   "source": [
    "optimal_scoops_of_ice_cream"
   ]
  },
  {
   "cell_type": "code",
   "execution_count": null,
   "id": "47c9b56f",
   "metadata": {},
   "outputs": [],
   "source": [
    "type(optimal_scoops_of_ice_cream)"
   ]
  },
  {
   "cell_type": "code",
   "execution_count": null,
   "id": "2e6e824c",
   "metadata": {},
   "outputs": [],
   "source": [
    "optimal_scoops_of_ice_cream = optimal_scoops_of_ice_cream +0.5"
   ]
  },
  {
   "cell_type": "code",
   "execution_count": null,
   "id": "cda9a0a2",
   "metadata": {},
   "outputs": [],
   "source": [
    "print(optimal_scoops_of_ice_cream)"
   ]
  },
  {
   "cell_type": "code",
   "execution_count": null,
   "id": "1e9f9388",
   "metadata": {},
   "outputs": [],
   "source": [
    "type(optimal_scoops_of_ice_cream)"
   ]
  },
  {
   "cell_type": "code",
   "execution_count": null,
   "id": "2711b74d",
   "metadata": {},
   "outputs": [],
   "source": [
    "optimal_scoops_of_ice_cream = optimal_scoops_of_ice_cream - 0.5\n"
   ]
  },
  {
   "cell_type": "code",
   "execution_count": null,
   "id": "c3e9ff18",
   "metadata": {},
   "outputs": [],
   "source": [
    "print(optimal_scoops_of_ice_cream) "
   ]
  },
  {
   "cell_type": "code",
   "execution_count": null,
   "id": "a01dc965",
   "metadata": {},
   "outputs": [],
   "source": [
    "type(optimal_scoops_of_ice_cream)"
   ]
  },
  {
   "cell_type": "code",
   "execution_count": null,
   "id": "7aadb78e",
   "metadata": {},
   "outputs": [],
   "source": [
    "optimal_scoops_of_ice_cream = int(optimal_scoops_of_ice_cream)"
   ]
  },
  {
   "cell_type": "code",
   "execution_count": null,
   "id": "735e985d",
   "metadata": {},
   "outputs": [],
   "source": [
    "optimal_scoops_of_ice_cream"
   ]
  },
  {
   "cell_type": "code",
   "execution_count": null,
   "id": "8823e971",
   "metadata": {},
   "outputs": [],
   "source": [
    "type(optimal_scoops_of_ice_cream)"
   ]
  },
  {
   "cell_type": "markdown",
   "id": "0cf635ab",
   "metadata": {},
   "source": [
    "# Takeways \n",
    "- if you want to use a value again, it needs to be stored as a variable\n",
    "- A variable will hold its value until it is explictly told to change \n",
    "- variables can be used in an expression in the same way that the underliune value would be used in that expression\n",
    "- "
   ]
  },
  {
   "cell_type": "markdown",
   "id": "9da2dd5f",
   "metadata": {},
   "source": [
    "# Booleans \n",
    " often produced from the use of comparasion operators \n",
    " comparasion operaters inclues followings \n",
    " - <\n",
    " - >\n",
    "  !=\n",
    "  == \n",
    "  \n",
    "  ( use paranthesis when mixing booleans / operators ) \n",
    "  \n",
    "  # Additional Operators \n",
    "    . and \n",
    "    . or \n",
    "    . not \n",
    "    "
   ]
  },
  {
   "cell_type": "code",
   "execution_count": null,
   "id": "7aa5eb20",
   "metadata": {},
   "outputs": [],
   "source": [
    "3==3\n",
    "\n"
   ]
  },
  {
   "cell_type": "code",
   "execution_count": null,
   "id": "d7b55230",
   "metadata": {},
   "outputs": [],
   "source": [
    "3!=4"
   ]
  },
  {
   "cell_type": "code",
   "execution_count": null,
   "id": "59be30ec",
   "metadata": {},
   "outputs": [],
   "source": [
    "True == True"
   ]
  },
  {
   "cell_type": "code",
   "execution_count": null,
   "id": "98ed5c11",
   "metadata": {},
   "outputs": [],
   "source": [
    "True !=False"
   ]
  },
  {
   "cell_type": "code",
   "execution_count": null,
   "id": "df64ac51",
   "metadata": {},
   "outputs": [],
   "source": [
    "True and True"
   ]
  },
  {
   "cell_type": "code",
   "execution_count": null,
   "id": "8b26f64e",
   "metadata": {},
   "outputs": [],
   "source": [
    "True and False"
   ]
  },
  {
   "cell_type": "code",
   "execution_count": null,
   "id": "cbe92b3f",
   "metadata": {},
   "outputs": [],
   "source": [
    "True or True\n"
   ]
  },
  {
   "cell_type": "code",
   "execution_count": null,
   "id": "633965e5",
   "metadata": {},
   "outputs": [],
   "source": [
    "True or False"
   ]
  },
  {
   "cell_type": "code",
   "execution_count": null,
   "id": "7313f248",
   "metadata": {},
   "outputs": [],
   "source": [
    "True and False \n"
   ]
  },
  {
   "cell_type": "code",
   "execution_count": null,
   "id": "1371c043",
   "metadata": {},
   "outputs": [],
   "source": [
    "not True"
   ]
  },
  {
   "cell_type": "code",
   "execution_count": null,
   "id": "97ce9d65",
   "metadata": {},
   "outputs": [],
   "source": [
    "not False\n"
   ]
  },
  {
   "cell_type": "markdown",
   "id": "bca0f8b2",
   "metadata": {},
   "source": [
    "# Variables and Booleans Together! \n",
    "\n"
   ]
  },
  {
   "cell_type": "code",
   "execution_count": null,
   "id": "a68b55ee",
   "metadata": {},
   "outputs": [],
   "source": [
    "is_it_raining = False"
   ]
  },
  {
   "cell_type": "code",
   "execution_count": null,
   "id": "731fe459",
   "metadata": {},
   "outputs": [],
   "source": [
    "I_have_an_umbrella = True "
   ]
  },
  {
   "cell_type": "code",
   "execution_count": null,
   "id": "4aa00e38",
   "metadata": {},
   "outputs": [],
   "source": [
    "is_it_raining and I_have_an_umbrella"
   ]
  },
  {
   "cell_type": "code",
   "execution_count": null,
   "id": "27465b24",
   "metadata": {},
   "outputs": [],
   "source": [
    "is_it_raining = True"
   ]
  },
  {
   "cell_type": "code",
   "execution_count": null,
   "id": "f4f48bc5",
   "metadata": {},
   "outputs": [],
   "source": [
    "is_it_raining and I_have_an_umbrella "
   ]
  },
  {
   "cell_type": "code",
   "execution_count": null,
   "id": "5ffd2a65",
   "metadata": {},
   "outputs": [],
   "source": [
    "## how to use NOT operator \n",
    "is_first_of_the_month = True\n",
    "has_report_been_sent = False"
   ]
  },
  {
   "cell_type": "code",
   "execution_count": null,
   "id": "f5d1d221",
   "metadata": {
    "scrolled": true
   },
   "outputs": [],
   "source": [
    "is_first_of_the_month = True\n",
    "has_report_been_sent = False"
   ]
  },
  {
   "cell_type": "code",
   "execution_count": null,
   "id": "7da8a7f1",
   "metadata": {},
   "outputs": [],
   "source": [
    "should_we_send_report = is_first_of_the_month and not has_report_been_sent"
   ]
  },
  {
   "cell_type": "code",
   "execution_count": null,
   "id": "0ef7d69f",
   "metadata": {},
   "outputs": [],
   "source": [
    "print(should_we_send_report)"
   ]
  },
  {
   "cell_type": "code",
   "execution_count": null,
   "id": "ceb03cf4",
   "metadata": {},
   "outputs": [],
   "source": [
    "should_we_send_report = is_first_of_the_month and  has_report_been_sent"
   ]
  },
  {
   "cell_type": "code",
   "execution_count": null,
   "id": "cc931646",
   "metadata": {},
   "outputs": [],
   "source": [
    "print(should_we_send_report)"
   ]
  },
  {
   "cell_type": "code",
   "execution_count": null,
   "id": "5ba47d1a",
   "metadata": {},
   "outputs": [],
   "source": [
    "should_we_send_report = is_first_of_the_month and not has_report_been_sent"
   ]
  },
  {
   "cell_type": "code",
   "execution_count": null,
   "id": "3479fbc5",
   "metadata": {},
   "outputs": [],
   "source": [
    "print(should_we_send_report)"
   ]
  },
  {
   "cell_type": "code",
   "execution_count": null,
   "id": "41a043bf",
   "metadata": {},
   "outputs": [],
   "source": [
    "has_report_been_sent =True"
   ]
  },
  {
   "cell_type": "code",
   "execution_count": null,
   "id": "8e2a027d",
   "metadata": {},
   "outputs": [],
   "source": [
    "should_we_send_report = is_first_of_the_month and not has_report_been_sent"
   ]
  },
  {
   "cell_type": "code",
   "execution_count": null,
   "id": "d2bcaa70",
   "metadata": {},
   "outputs": [],
   "source": [
    "print(should_we_send_report)"
   ]
  },
  {
   "cell_type": "code",
   "execution_count": null,
   "id": "5be1ec0f",
   "metadata": {},
   "outputs": [],
   "source": [
    "is_first_of_the_month = False\n",
    "has_report_been_sent = False"
   ]
  },
  {
   "cell_type": "code",
   "execution_count": null,
   "id": "58bedf51",
   "metadata": {},
   "outputs": [],
   "source": [
    "should_we_send_report = is_first_of_the_month and not has_report_been_sent"
   ]
  },
  {
   "cell_type": "code",
   "execution_count": null,
   "id": "cd4fe36a",
   "metadata": {},
   "outputs": [],
   "source": [
    "print(should_we_send_report)"
   ]
  },
  {
   "cell_type": "markdown",
   "id": "cfc7b720",
   "metadata": {},
   "source": [
    "# Math Operators, Variables and Booleans!"
   ]
  },
  {
   "cell_type": "code",
   "execution_count": null,
   "id": "aefc6480",
   "metadata": {},
   "outputs": [],
   "source": [
    "x= 5"
   ]
  },
  {
   "cell_type": "code",
   "execution_count": null,
   "id": "38dd351f",
   "metadata": {},
   "outputs": [],
   "source": [
    "x+10"
   ]
  },
  {
   "cell_type": "code",
   "execution_count": null,
   "id": "106c43a3",
   "metadata": {},
   "outputs": [],
   "source": [
    "x + 10 == 15"
   ]
  },
  {
   "cell_type": "markdown",
   "id": "31b76ad6",
   "metadata": {},
   "source": [
    "# Order of Operations \n",
    "  - PEMDAS \n",
    "        - Paranthesis \n",
    "        -Exponents \n",
    "        - Multiplications and Division evaluated left to right\n",
    "        - Addition and Subtraction evaluated left to right "
   ]
  },
  {
   "cell_type": "code",
   "execution_count": null,
   "id": "9c1a4c5f",
   "metadata": {},
   "outputs": [],
   "source": [
    "(x*2) ** 2 - 15 *11 "
   ]
  },
  {
   "cell_type": "code",
   "execution_count": null,
   "id": "ac2ca838",
   "metadata": {},
   "outputs": [],
   "source": [
    "(x*2) ** 2 - (15 *11) # better way to write  "
   ]
  },
  {
   "cell_type": "code",
   "execution_count": null,
   "id": "23fda6d9",
   "metadata": {},
   "outputs": [],
   "source": [
    "# Floor division  "
   ]
  },
  {
   "cell_type": "markdown",
   "id": "fcd63bd2",
   "metadata": {},
   "source": [
    "5// 2"
   ]
  },
  {
   "cell_type": "code",
   "execution_count": null,
   "id": "0652b9b9",
   "metadata": {},
   "outputs": [],
   "source": [
    "5 // 2"
   ]
  },
  {
   "cell_type": "code",
   "execution_count": null,
   "id": "576808f4",
   "metadata": {},
   "outputs": [],
   "source": [
    "7//2"
   ]
  },
  {
   "cell_type": "code",
   "execution_count": null,
   "id": "932fffb9",
   "metadata": {},
   "outputs": [],
   "source": [
    "# Modulo ( remainder )"
   ]
  },
  {
   "cell_type": "code",
   "execution_count": null,
   "id": "6decdc54",
   "metadata": {},
   "outputs": [],
   "source": [
    "5%2"
   ]
  },
  {
   "cell_type": "code",
   "execution_count": null,
   "id": "ce0ba2ed",
   "metadata": {},
   "outputs": [],
   "source": [
    "5.0 //2"
   ]
  },
  {
   "cell_type": "markdown",
   "id": "8d04c3f9",
   "metadata": {},
   "source": [
    "# STRING "
   ]
  },
  {
   "cell_type": "code",
   "execution_count": null,
   "id": "7a0d2be5",
   "metadata": {},
   "outputs": [],
   "source": [
    "string = 'This is cool'"
   ]
  },
  {
   "cell_type": "code",
   "execution_count": null,
   "id": "96d24579",
   "metadata": {},
   "outputs": [],
   "source": [
    "print(string)"
   ]
  },
  {
   "cell_type": "markdown",
   "id": "14da7c97",
   "metadata": {},
   "source": [
    "# STRING and Booleans "
   ]
  },
  {
   "cell_type": "code",
   "execution_count": null,
   "id": "328d7068",
   "metadata": {},
   "outputs": [],
   "source": [
    "'string' == 'string'"
   ]
  },
  {
   "cell_type": "code",
   "execution_count": null,
   "id": "d96795e8",
   "metadata": {},
   "outputs": [],
   "source": [
    "'string' + 'string'"
   ]
  },
  {
   "cell_type": "code",
   "execution_count": null,
   "id": "643892af",
   "metadata": {},
   "outputs": [],
   "source": [
    "'string'*2"
   ]
  },
  {
   "cell_type": "code",
   "execution_count": null,
   "id": "9c295ce3",
   "metadata": {},
   "outputs": [],
   "source": [
    "'string'*5"
   ]
  },
  {
   "cell_type": "code",
   "execution_count": null,
   "id": "81a4f7a5",
   "metadata": {},
   "outputs": [],
   "source": [
    "'string' - 'string'"
   ]
  },
  {
   "cell_type": "markdown",
   "id": "eb8f2cc5",
   "metadata": {},
   "source": [
    "# STRING Formatting "
   ]
  },
  {
   "cell_type": "code",
   "execution_count": null,
   "id": "087edb12",
   "metadata": {},
   "outputs": [],
   "source": [
    "avg_ducks = 5 "
   ]
  },
  {
   "cell_type": "code",
   "execution_count": null,
   "id": "61d05af6",
   "metadata": {},
   "outputs": [],
   "source": [
    "print('Average number of ducks in the pond:' + str(avg_ducks))"
   ]
  },
  {
   "cell_type": "markdown",
   "id": "b7378136",
   "metadata": {},
   "source": [
    "# % Formatting "
   ]
  },
  {
   "cell_type": "code",
   "execution_count": null,
   "id": "99b5d3de",
   "metadata": {},
   "outputs": [],
   "source": [
    "my_fav_color = 'red'"
   ]
  },
  {
   "cell_type": "code",
   "execution_count": null,
   "id": "e8395ea3",
   "metadata": {},
   "outputs": [],
   "source": [
    "'My favroite color: %s!' % my_fav_color"
   ]
  },
  {
   "cell_type": "code",
   "execution_count": null,
   "id": "ffe46c1e",
   "metadata": {},
   "outputs": [],
   "source": [
    "'My favorite color :{}'.format(my_fav_color)"
   ]
  },
  {
   "cell_type": "markdown",
   "id": "b4192aa3",
   "metadata": {},
   "source": [
    "# f Format "
   ]
  },
  {
   "cell_type": "code",
   "execution_count": null,
   "id": "26ecb916",
   "metadata": {},
   "outputs": [],
   "source": [
    "f'My favorite color: {my_fav_color}' #. no space after f "
   ]
  },
  {
   "cell_type": "markdown",
   "id": "d9361cc0",
   "metadata": {},
   "source": [
    "# STRING Methods \n",
    "\n",
    " - .lower ()\n",
    " - .upper ()"
   ]
  },
  {
   "cell_type": "code",
   "execution_count": null,
   "id": "cfd05bd7",
   "metadata": {},
   "outputs": [],
   "source": [
    "string = \"HellO\"  # H e l l O "
   ]
  },
  {
   "cell_type": "code",
   "execution_count": null,
   "id": "fb0373c6",
   "metadata": {},
   "outputs": [],
   "source": [
    "string.lower()"
   ]
  },
  {
   "cell_type": "code",
   "execution_count": null,
   "id": "df577424",
   "metadata": {},
   "outputs": [],
   "source": [
    "string.upper()"
   ]
  },
  {
   "cell_type": "code",
   "execution_count": null,
   "id": "432430d6",
   "metadata": {},
   "outputs": [],
   "source": [
    "string"
   ]
  },
  {
   "cell_type": "code",
   "execution_count": null,
   "id": "978f5a8b",
   "metadata": {},
   "outputs": [],
   "source": [
    "lower_string = string.lower()"
   ]
  },
  {
   "cell_type": "markdown",
   "id": "a43d4078",
   "metadata": {},
   "source": [
    "# . .strip()\n",
    "\n",
    "  . .isdigit()\n",
    "  \n",
    "  . .split()\n",
    "  \n",
    "  . .join()\n",
    "  "
   ]
  },
  {
   "cell_type": "code",
   "execution_count": null,
   "id": "d852aa15",
   "metadata": {},
   "outputs": [],
   "source": [
    " address = '1234 Main St, San Antonio, TX, 1234'"
   ]
  },
  {
   "cell_type": "code",
   "execution_count": null,
   "id": "7e3c63c6",
   "metadata": {},
   "outputs": [],
   "source": [
    "address.split (', ')"
   ]
  },
  {
   "cell_type": "code",
   "execution_count": null,
   "id": "e85588bc",
   "metadata": {},
   "outputs": [],
   "source": [
    "type (address.split (','))"
   ]
  },
  {
   "cell_type": "code",
   "execution_count": null,
   "id": "d98f388d",
   "metadata": {},
   "outputs": [],
   "source": [
    "address"
   ]
  },
  {
   "cell_type": "code",
   "execution_count": null,
   "id": "addfc5ea",
   "metadata": {},
   "outputs": [],
   "source": [
    "', '.join(address)"
   ]
  },
  {
   "cell_type": "markdown",
   "id": "f041d822",
   "metadata": {},
   "source": [
    "# LIST "
   ]
  },
  {
   "cell_type": "code",
   "execution_count": null,
   "id": "258b246e",
   "metadata": {},
   "outputs": [],
   "source": [
    "# output first then "
   ]
  },
  {
   "cell_type": "code",
   "execution_count": null,
   "id": "e9dcb5f9",
   "metadata": {},
   "outputs": [],
   "source": [
    "range(100)"
   ]
  },
  {
   "cell_type": "code",
   "execution_count": null,
   "id": "f1221a42",
   "metadata": {},
   "outputs": [],
   "source": [
    "list(range(50))"
   ]
  },
  {
   "cell_type": "code",
   "execution_count": null,
   "id": "812af6fe",
   "metadata": {},
   "outputs": [],
   "source": [
    "fancy_list = [num * 2 for num in range(50)]# where num is alias \n"
   ]
  },
  {
   "cell_type": "code",
   "execution_count": null,
   "id": "0d415854",
   "metadata": {},
   "outputs": [],
   "source": [
    "fancy_list"
   ]
  },
  {
   "cell_type": "code",
   "execution_count": null,
   "id": "91cd82f2",
   "metadata": {},
   "outputs": [],
   "source": [
    "fancy_list = [i *3 for i in range (10)]"
   ]
  },
  {
   "cell_type": "code",
   "execution_count": null,
   "id": "3a70473f",
   "metadata": {},
   "outputs": [],
   "source": [
    "fancy_list"
   ]
  },
  {
   "cell_type": "code",
   "execution_count": null,
   "id": "aaaab4fa",
   "metadata": {},
   "outputs": [],
   "source": [
    "even_list =[ x *4 for x in range (8) if x % 2 == 0]"
   ]
  },
  {
   "cell_type": "code",
   "execution_count": null,
   "id": "74d4b1e1",
   "metadata": {},
   "outputs": [],
   "source": [
    "even_list"
   ]
  },
  {
   "cell_type": "code",
   "execution_count": null,
   "id": "dc74a98d",
   "metadata": {},
   "outputs": [],
   "source": [
    "even_list =[ x *4 for x in range (4) if x % 2 == 0]"
   ]
  },
  {
   "cell_type": "code",
   "execution_count": null,
   "id": "9597195f",
   "metadata": {},
   "outputs": [],
   "source": [
    "even_list"
   ]
  },
  {
   "cell_type": "markdown",
   "id": "40405a10",
   "metadata": {},
   "source": [
    "# List Operations \n",
    "\n",
    "    .append()(add)\n",
    "    .pop()(remove) \n",
    "    . len() (count length)\n",
    "    "
   ]
  },
  {
   "cell_type": "code",
   "execution_count": null,
   "id": "bd1e0b27",
   "metadata": {},
   "outputs": [],
   "source": [
    "even_list.append('Dilip')"
   ]
  },
  {
   "cell_type": "code",
   "execution_count": null,
   "id": "a36e8466",
   "metadata": {},
   "outputs": [],
   "source": [
    "even_list"
   ]
  },
  {
   "cell_type": "code",
   "execution_count": null,
   "id": "3f2e9f72",
   "metadata": {},
   "outputs": [],
   "source": [
    "even_list.pop()"
   ]
  },
  {
   "cell_type": "code",
   "execution_count": null,
   "id": "59fceb99",
   "metadata": {},
   "outputs": [],
   "source": [
    "even_list"
   ]
  },
  {
   "cell_type": "code",
   "execution_count": null,
   "id": "45dcf4b0",
   "metadata": {},
   "outputs": [],
   "source": [
    "len(even_list)"
   ]
  },
  {
   "cell_type": "code",
   "execution_count": null,
   "id": "fd506f4d",
   "metadata": {},
   "outputs": [],
   "source": [
    "range(25)"
   ]
  },
  {
   "cell_type": "code",
   "execution_count": null,
   "id": "7505f5ed",
   "metadata": {},
   "outputs": [],
   "source": [
    "len(range)"
   ]
  },
  {
   "cell_type": "code",
   "execution_count": null,
   "id": "441918c3",
   "metadata": {},
   "outputs": [],
   "source": [
    "len(fancy_list)"
   ]
  },
  {
   "cell_type": "code",
   "execution_count": null,
   "id": "ef229c76",
   "metadata": {},
   "outputs": [],
   "source": [
    "fancy_list[-4]"
   ]
  },
  {
   "cell_type": "code",
   "execution_count": null,
   "id": "33d5b5b5",
   "metadata": {},
   "outputs": [],
   "source": [
    "fancy_list[1:4]"
   ]
  },
  {
   "cell_type": "code",
   "execution_count": null,
   "id": "dc06b9b9",
   "metadata": {},
   "outputs": [],
   "source": [
    "fancy_list"
   ]
  },
  {
   "cell_type": "code",
   "execution_count": null,
   "id": "b95a604a",
   "metadata": {},
   "outputs": [],
   "source": [
    "fancy_list[0:-3]"
   ]
  },
  {
   "cell_type": "code",
   "execution_count": null,
   "id": "d6fdaa73",
   "metadata": {},
   "outputs": [],
   "source": [
    "fancy_list[:2]"
   ]
  },
  {
   "cell_type": "code",
   "execution_count": null,
   "id": "403cdae1",
   "metadata": {},
   "outputs": [],
   "source": [
    "fancy_list[-1:]"
   ]
  },
  {
   "cell_type": "code",
   "execution_count": null,
   "id": "474b7f67",
   "metadata": {},
   "outputs": [],
   "source": [
    "fancy_list[:2] + fancy_list[-2:] # (first 2 and last 2)"
   ]
  },
  {
   "cell_type": "markdown",
   "id": "d2cf4e1a",
   "metadata": {},
   "source": [
    "# converting to a List \n",
    "- if it has underlining condition \n",
    "- "
   ]
  },
  {
   "cell_type": "markdown",
   "id": "b3483ed7",
   "metadata": {},
   "source": [
    "# Tuples \n",
    " - they are immutable ( if you want to do anything you have to re assign before doing anything)"
   ]
  },
  {
   "cell_type": "code",
   "execution_count": null,
   "id": "fab1bc0f",
   "metadata": {},
   "outputs": [],
   "source": [
    "super_tuple = (1,2, 'three', [ 4, 5, None])"
   ]
  },
  {
   "cell_type": "code",
   "execution_count": null,
   "id": "58ff2ba7",
   "metadata": {},
   "outputs": [],
   "source": [
    "list(super_tuple)"
   ]
  },
  {
   "cell_type": "markdown",
   "id": "94ad7837",
   "metadata": {},
   "source": [
    "# Dictionaries \n",
    "- starts as simple but can be very complicated \n",
    "- are ways to group values together (Key and Value)\n",
    "- (key:value) they are always linkedup together "
   ]
  },
  {
   "cell_type": "code",
   "execution_count": null,
   "id": "557bcfb5",
   "metadata": {},
   "outputs": [],
   "source": [
    "my_dict = {'name': 'dilip', 'color': 'blue'}"
   ]
  },
  {
   "cell_type": "code",
   "execution_count": null,
   "id": "febc6d51",
   "metadata": {},
   "outputs": [],
   "source": [
    "my_dict"
   ]
  },
  {
   "cell_type": "code",
   "execution_count": null,
   "id": "b549d247",
   "metadata": {},
   "outputs": [],
   "source": [
    "my_sec_dict = dict(name= 'dilip', color='blue')"
   ]
  },
  {
   "cell_type": "code",
   "execution_count": null,
   "id": "967be7fa",
   "metadata": {},
   "outputs": [],
   "source": [
    "my_sec_dict"
   ]
  },
  {
   "cell_type": "code",
   "execution_count": null,
   "id": "08ee05ff",
   "metadata": {},
   "outputs": [],
   "source": [
    "my_dict ['name']"
   ]
  },
  {
   "cell_type": "code",
   "execution_count": null,
   "id": "7fbce095",
   "metadata": {},
   "outputs": [],
   "source": [
    "my_dict ['color']"
   ]
  },
  {
   "cell_type": "code",
   "execution_count": null,
   "id": "bff089be",
   "metadata": {},
   "outputs": [],
   "source": []
  }
 ],
 "metadata": {
  "kernelspec": {
   "display_name": "Python 3",
   "language": "python",
   "name": "python3"
  },
  "language_info": {
   "codemirror_mode": {
    "name": "ipython",
    "version": 3
   },
   "file_extension": ".py",
   "mimetype": "text/x-python",
   "name": "python",
   "nbconvert_exporter": "python",
   "pygments_lexer": "ipython3",
   "version": "3.8.8"
  }
 },
 "nbformat": 4,
 "nbformat_minor": 5
}
