{
 "cells": [
  {
   "cell_type": "code",
   "execution_count": null,
   "id": "fc69e3a8",
   "metadata": {},
   "outputs": [],
   "source": [
    "''' \n",
    "Import and test 3 of the functions from your functions exercise file. Import each function in a different way:\n",
    "\n",
    "Run an interactive python session and import the module. Call the is_vowel function using the . syntax.\n",
    "Create a file named import_exericses.py. \n",
    "Within this file, use from to import the calculate_tip function directly. \n",
    "Call this function with values you choose and print the result.\n",
    "Create a jupyter notebook named import_exercises.ipynb. \n",
    "Use from to import the get_letter_grade function and give it an alias. Test this function in your notebook.\n",
    "'''"
   ]
  },
  {
   "cell_type": "code",
   "execution_count": null,
   "id": "69ac9bd5",
   "metadata": {},
   "outputs": [],
   "source": [
    "import function_exercises \n",
    "\n",
    "from function_exercises import get_letter_grade\n",
    "get_letter_grade(85)"
   ]
  },
  {
   "cell_type": "code",
   "execution_count": null,
   "id": "eae46739",
   "metadata": {},
   "outputs": [],
   "source": [
    "from function_exercises import calculate_tip\n",
    "calculate_tip (.10, 50)"
   ]
  },
  {
   "cell_type": "code",
   "execution_count": null,
   "id": "eecb53df",
   "metadata": {},
   "outputs": [],
   "source": [
    "from function_exercises import is_vowel\n",
    "is_vowel('a')\n"
   ]
  },
  {
   "cell_type": "code",
   "execution_count": null,
   "id": "63a72401",
   "metadata": {},
   "outputs": [],
   "source": [
    "''' \n",
    "Read about and use the itertools module from\n",
    "the python standard library to help you solve the following problems:\n",
    "\n",
    "How many different ways can you combine the letters from \"abc\" with the numbers 1, 2, and 3?\n",
    "How many different combinations are there of 2 letters from \"abcd\"?\n",
    "How many different permutations are there of 2 letters from \"abcd\"?\n",
    "'''"
   ]
  },
  {
   "cell_type": "code",
   "execution_count": null,
   "id": "a5abb9a6",
   "metadata": {},
   "outputs": [],
   "source": [
    "import itertools\n",
    "list(itertools.product('abc','123'))"
   ]
  },
  {
   "cell_type": "code",
   "execution_count": null,
   "id": "2a21721d",
   "metadata": {},
   "outputs": [],
   "source": [
    "list(itertools.combinations('abc', 2))"
   ]
  },
  {
   "cell_type": "code",
   "execution_count": null,
   "id": "5cb8c249",
   "metadata": {},
   "outputs": [],
   "source": [
    "list(itertools.permutations('abc',2))"
   ]
  },
  {
   "cell_type": "code",
   "execution_count": null,
   "id": "deb329c1",
   "metadata": {},
   "outputs": [],
   "source": [
    "\n",
    "''' \n",
    "Save this file as profiles.json inside of your exercises directory (right click -> save file as...).\n",
    "\n",
    "Use the load function from the json module to open this file.\n",
    "\n",
    "Your code should produce a list of dictionaries. Using this data, write some code that calculates and outputs the following information:\n",
    "\n",
    "Total number of users\n",
    "Number of active users\n",
    "Number of inactive users\n",
    "Grand total of balances for all users\n",
    "Average balance per user\n",
    "User with the lowest balance\n",
    "User with the highest balance\n",
    "Most common favorite fruit\n",
    "Least most common favorite fruit\n",
    "Total number of unread messages for all users\n",
    "\n",
    "'''"
   ]
  },
  {
   "cell_type": "code",
   "execution_count": 11,
   "id": "969d18ef",
   "metadata": {
    "scrolled": true
   },
   "outputs": [],
   "source": [
    "import json\n",
    "solution= json.load(open(\"profiles.json\"))"
   ]
  },
  {
   "cell_type": "code",
   "execution_count": null,
   "id": "34304f20",
   "metadata": {},
   "outputs": [],
   "source": [
    "''' total number of user'''"
   ]
  },
  {
   "cell_type": "code",
   "execution_count": 16,
   "id": "76e06a2a",
   "metadata": {},
   "outputs": [
    {
     "name": "stdout",
     "output_type": "stream",
     "text": [
      "total number of users: 19\n"
     ]
    }
   ],
   "source": [
    "users = len(solution)\n",
    "print('total number of users:', users)"
   ]
  },
  {
   "cell_type": "code",
   "execution_count": null,
   "id": "12b8164e",
   "metadata": {},
   "outputs": [],
   "source": [
    "''' number of active users '''"
   ]
  },
  {
   "cell_type": "code",
   "execution_count": 35,
   "id": "ffa8d254",
   "metadata": {},
   "outputs": [
    {
     "name": "stdout",
     "output_type": "stream",
     "text": [
      "total number of active user: 9\n"
     ]
    }
   ],
   "source": [
    "active_users = len([user for users in solution if users [\"isActive\"]])\n",
    "print('total number of active user:', active_users)"
   ]
  },
  {
   "cell_type": "code",
   "execution_count": 36,
   "id": "9ee1651f",
   "metadata": {},
   "outputs": [
    {
     "name": "stdout",
     "output_type": "stream",
     "text": [
      "total number of active user: 10\n"
     ]
    }
   ],
   "source": [
    "inactive_users = len([user for users in solution if users [\"isActive\"]== False])\n",
    "print('total number of active user:', inactive_users)"
   ]
  },
  {
   "cell_type": "code",
   "execution_count": null,
   "id": "ce17addc",
   "metadata": {},
   "outputs": [],
   "source": [
    "''' Grand total of balances for all users '''"
   ]
  },
  {
   "cell_type": "raw",
   "id": "67378717",
   "metadata": {},
   "source": [
    "balance = [user[\"balance\"] for user in solution]\n",
    "\n",
    "total = 0\n",
    "\n",
    "for i in balance:\n",
    "    i = float(i)\n",
    "    total = sum(i)\n",
    "    print(total)\n",
    "        \n",
    "    \n",
    "    \n",
    "    \n",
    "    \n",
    "\n",
    "\n",
    "\n",
    "        \n",
    "  \n",
    "   "
   ]
  },
  {
   "cell_type": "code",
   "execution_count": 84,
   "id": "28f8a870",
   "metadata": {},
   "outputs": [
    {
     "name": "stdout",
     "output_type": "stream",
     "text": [
      "$2,097.02\n",
      "$3,654.02\n",
      "$1,536.02\n",
      "$3,919.64\n",
      "$3,681.39\n",
      "$1,694.42\n",
      "$1,214.10\n",
      "$2,930.31\n",
      "$1,944.15\n",
      "$2,839.22\n",
      "$2,467.31\n",
      "$3,304.99\n",
      "$3,844.42\n",
      "$3,594.99\n",
      "$2,940.24\n",
      "$3,062.41\n",
      "$3,067.82\n",
      "$2,646.76\n",
      "$2,227.79\n"
     ]
    }
   ],
   "source": [
    "balance = [user[\"balance\"] for user in solution]\n",
    "\n",
    "total = 0\n",
    "\n",
    "for i in balance:\n",
    "    print(i)"
   ]
  },
  {
   "cell_type": "code",
   "execution_count": null,
   "id": "b5ccb01d",
   "metadata": {},
   "outputs": [],
   "source": [
    "''' Average balance per user'''"
   ]
  },
  {
   "cell_type": "code",
   "execution_count": 67,
   "id": "10568cce",
   "metadata": {},
   "outputs": [
    {
     "ename": "TypeError",
     "evalue": "unsupported operand type(s) for /: 'int' and 'dict'",
     "output_type": "error",
     "traceback": [
      "\u001b[0;31m---------------------------------------------------------------------------\u001b[0m",
      "\u001b[0;31mTypeError\u001b[0m                                 Traceback (most recent call last)",
      "\u001b[0;32m<ipython-input-67-a2c985eccaed>\u001b[0m in \u001b[0;36m<module>\u001b[0;34m\u001b[0m\n\u001b[0;32m----> 1\u001b[0;31m \u001b[0maverage_balance\u001b[0m \u001b[0;34m=\u001b[0m \u001b[0mtotal\u001b[0m \u001b[0;34m/\u001b[0m \u001b[0musers\u001b[0m\u001b[0;34m\u001b[0m\u001b[0;34m\u001b[0m\u001b[0m\n\u001b[0m",
      "\u001b[0;31mTypeError\u001b[0m: unsupported operand type(s) for /: 'int' and 'dict'"
     ]
    }
   ],
   "source": [
    "average_balance = total / users "
   ]
  },
  {
   "cell_type": "code",
   "execution_count": null,
   "id": "6ed0d12d",
   "metadata": {},
   "outputs": [],
   "source": [
    "''' User with the lowest balance '''"
   ]
  },
  {
   "cell_type": "code",
   "execution_count": 81,
   "id": "f27c8069",
   "metadata": {},
   "outputs": [
    {
     "ename": "TypeError",
     "evalue": "'builtin_function_or_method' object is not subscriptable",
     "output_type": "error",
     "traceback": [
      "\u001b[0;31m---------------------------------------------------------------------------\u001b[0m",
      "\u001b[0;31mTypeError\u001b[0m                                 Traceback (most recent call last)",
      "\u001b[0;32m<ipython-input-81-f7237b089968>\u001b[0m in \u001b[0;36m<module>\u001b[0;34m\u001b[0m\n\u001b[0;32m----> 1\u001b[0;31m \u001b[0mlowest_balance\u001b[0m \u001b[0;34m=\u001b[0m \u001b[0mlen\u001b[0m\u001b[0;34m[\u001b[0m\u001b[0;34m\"balance\"\u001b[0m\u001b[0;34m]\u001b[0m\u001b[0;34m\u001b[0m\u001b[0;34m\u001b[0m\u001b[0m\n\u001b[0m",
      "\u001b[0;31mTypeError\u001b[0m: 'builtin_function_or_method' object is not subscriptable"
     ]
    }
   ],
   "source": [
    "lowest_balance = "
   ]
  },
  {
   "cell_type": "code",
   "execution_count": null,
   "id": "0ebf99f0",
   "metadata": {},
   "outputs": [],
   "source": []
  }
 ],
 "metadata": {
  "kernelspec": {
   "display_name": "Python 3",
   "language": "python",
   "name": "python3"
  },
  "language_info": {
   "codemirror_mode": {
    "name": "ipython",
    "version": 3
   },
   "file_extension": ".py",
   "mimetype": "text/x-python",
   "name": "python",
   "nbconvert_exporter": "python",
   "pygments_lexer": "ipython3",
   "version": "3.8.8"
  }
 },
 "nbformat": 4,
 "nbformat_minor": 5
}
