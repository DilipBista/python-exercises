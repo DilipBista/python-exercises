{
 "cells": [
  {
   "cell_type": "code",
   "execution_count": null,
   "id": "bf9e89ae",
   "metadata": {},
   "outputs": [],
   "source": [
    "''' \n",
    "Import and test 3 of the functions from your functions exercise file. Import each function in a different way:\n",
    "\n",
    "Run an interactive python session and import the module. Call the is_vowel function using the . syntax.\n",
    "Create a file named import_exericses.py. \n",
    "Within this file, use from to import the calculate_tip function directly. \n",
    "Call this function with values you choose and print the result.\n",
    "Create a jupyter notebook named import_exercises.ipynb. \n",
    "Use from to import the get_letter_grade function and give it an alias. Test this function in your notebook.\n",
    "'''"
   ]
  },
  {
   "cell_type": "code",
   "execution_count": null,
   "id": "e8d6944e",
   "metadata": {},
   "outputs": [],
   "source": [
    "import function_exercises \n",
    "\n",
    "from function_exercises import get_letter_grade\n",
    "get_letter_grade(85)"
   ]
  },
  {
   "cell_type": "code",
   "execution_count": null,
   "id": "f47ef177",
   "metadata": {},
   "outputs": [],
   "source": [
    "from function_exercises import calculate_tip\n",
    "calculate_tip (.10, 50)"
   ]
  },
  {
   "cell_type": "code",
   "execution_count": null,
   "id": "78ccc217",
   "metadata": {},
   "outputs": [],
   "source": [
    "from function_exercises import is_vowel\n",
    "is_vowel('b')\n"
   ]
  },
  {
   "cell_type": "code",
   "execution_count": null,
   "id": "56a0a670",
   "metadata": {},
   "outputs": [],
   "source": [
    "''' \n",
    "Read about and use the itertools module from\n",
    "the python standard library to help you solve the following problems:\n",
    "\n",
    "How many different ways can you combine the letters from \"abc\" with the numbers 1, 2, and 3?\n",
    "How many different combinations are there of 2 letters from \"abcd\"?\n",
    "How many different permutations are there of 2 letters from \"abcd\"?\n",
    "'''"
   ]
  },
  {
   "cell_type": "code",
   "execution_count": null,
   "id": "0a3f851c",
   "metadata": {},
   "outputs": [],
   "source": [
    "import itertools\n",
    "list(itertools.product('abc','123'))"
   ]
  },
  {
   "cell_type": "code",
   "execution_count": null,
   "id": "d0accf99",
   "metadata": {},
   "outputs": [],
   "source": [
    "list(itertools.combinations('abc', 2))"
   ]
  },
  {
   "cell_type": "code",
   "execution_count": null,
   "id": "933e39a2",
   "metadata": {},
   "outputs": [],
   "source": [
    "list(itertools.permutations('abc',2))"
   ]
  },
  {
   "cell_type": "code",
   "execution_count": null,
   "id": "ac7e2515",
   "metadata": {},
   "outputs": [],
   "source": [
    "\n",
    "''' \n",
    "Save this file as profiles.json inside of your exercises directory (right click -> save file as...).\n",
    "\n",
    "Use the load function from the json module to open this file.\n",
    "\n",
    "Your code should produce a list of dictionaries. Using this data, write some code that calculates and outputs the following information:\n",
    "\n",
    "Total number of users\n",
    "Number of active users\n",
    "Number of inactive users\n",
    "Grand total of balances for all users\n",
    "Average balance per user\n",
    "User with the lowest balance\n",
    "User with the highest balance\n",
    "Most common favorite fruit\n",
    "Least most common favorite fruit\n",
    "Total number of unread messages for all users\n",
    "\n",
    "'''"
   ]
  },
  {
   "cell_type": "code",
   "execution_count": 4,
   "id": "9f16b244",
   "metadata": {
    "scrolled": true
   },
   "outputs": [],
   "source": [
    "import json\n",
    "profiles = json.load(open(\"profiles.json\"))"
   ]
  },
  {
   "cell_type": "code",
   "execution_count": 5,
   "id": "51327df9",
   "metadata": {},
   "outputs": [],
   "source": [
    "# cleaning and preparing data \n",
    "\n",
    "  # check for duplicate id's (use set function to drop duplicate )\n",
    "profile_ids = [profile['_id'] for profile in profiles]\n"
   ]
  },
  {
   "cell_type": "code",
   "execution_count": 6,
   "id": "1e3124e3",
   "metadata": {},
   "outputs": [
    {
     "data": {
      "text/plain": [
       "['54e23c3e46ab53a440b580e8',\n",
       " '54e23c3ef5cc0d250968c212',\n",
       " '54e23c3e09cc6875638cd36b',\n",
       " '54e23c3e54e4094147a3b1da',\n",
       " '54e23c3e177caf5567ba87ac',\n",
       " '54e23c3eaffbb506aa15ec1c',\n",
       " '54e23c3e0fd8074c2ca52667',\n",
       " '54e23c3eb112d96e4204914d',\n",
       " '54e23c3ef30f14d0e5afddf3',\n",
       " '54e23c3ebd80e9c26b057fa3',\n",
       " '54e23c3e6d89c09f5507e7dd',\n",
       " '54e23c3e4192cf53edd67c99',\n",
       " '54e23c3eedcc65f0ec3a5496',\n",
       " '54e23c3eb813e66c6d33aa82',\n",
       " '54e23c3e502a2f526b689c3e',\n",
       " '54e23c3e69d22e49c7fe62de',\n",
       " '54e23c3e42676228c442a669',\n",
       " '54e23c3e4ac5969958013235',\n",
       " '54e23c3ed945981ba2580614']"
      ]
     },
     "execution_count": 6,
     "metadata": {},
     "output_type": "execute_result"
    }
   ],
   "source": [
    " profile_ids"
   ]
  },
  {
   "cell_type": "code",
   "execution_count": 7,
   "id": "d9be6daf",
   "metadata": {},
   "outputs": [
    {
     "data": {
      "text/plain": [
       "' total number of user'"
      ]
     },
     "execution_count": 7,
     "metadata": {},
     "output_type": "execute_result"
    }
   ],
   "source": [
    "''' total number of user'''"
   ]
  },
  {
   "cell_type": "code",
   "execution_count": 8,
   "id": "51049b6e",
   "metadata": {},
   "outputs": [
    {
     "data": {
      "text/plain": [
       "{'54e23c3e09cc6875638cd36b',\n",
       " '54e23c3e0fd8074c2ca52667',\n",
       " '54e23c3e177caf5567ba87ac',\n",
       " '54e23c3e4192cf53edd67c99',\n",
       " '54e23c3e42676228c442a669',\n",
       " '54e23c3e46ab53a440b580e8',\n",
       " '54e23c3e4ac5969958013235',\n",
       " '54e23c3e502a2f526b689c3e',\n",
       " '54e23c3e54e4094147a3b1da',\n",
       " '54e23c3e69d22e49c7fe62de',\n",
       " '54e23c3e6d89c09f5507e7dd',\n",
       " '54e23c3eaffbb506aa15ec1c',\n",
       " '54e23c3eb112d96e4204914d',\n",
       " '54e23c3eb813e66c6d33aa82',\n",
       " '54e23c3ebd80e9c26b057fa3',\n",
       " '54e23c3ed945981ba2580614',\n",
       " '54e23c3eedcc65f0ec3a5496',\n",
       " '54e23c3ef30f14d0e5afddf3',\n",
       " '54e23c3ef5cc0d250968c212'}"
      ]
     },
     "execution_count": 8,
     "metadata": {},
     "output_type": "execute_result"
    }
   ],
   "source": [
    "# checking for uniqueness and total number of profiles \n",
    "\n",
    "set(profile_ids)"
   ]
  },
  {
   "cell_type": "code",
   "execution_count": 9,
   "id": "62fd4015",
   "metadata": {},
   "outputs": [
    {
     "data": {
      "text/plain": [
       "19"
      ]
     },
     "execution_count": 9,
     "metadata": {},
     "output_type": "execute_result"
    }
   ],
   "source": [
    " #total number of profiles \n",
    "len(set(profile_ids))"
   ]
  },
  {
   "cell_type": "code",
   "execution_count": 53,
   "id": "ba38188a",
   "metadata": {},
   "outputs": [
    {
     "name": "stdout",
     "output_type": "stream",
     "text": [
      "total number of users: 19\n"
     ]
    }
   ],
   "source": [
    "total_users = len(profiles)\n",
    "print('total number of users:', users)"
   ]
  },
  {
   "cell_type": "code",
   "execution_count": 11,
   "id": "4335ecd9",
   "metadata": {},
   "outputs": [
    {
     "data": {
      "text/plain": [
       "' number of active users '"
      ]
     },
     "execution_count": 11,
     "metadata": {},
     "output_type": "execute_result"
    }
   ],
   "source": [
    "''' number of active users '''"
   ]
  },
  {
   "cell_type": "code",
   "execution_count": 12,
   "id": "2b4e7d3d",
   "metadata": {},
   "outputs": [
    {
     "name": "stdout",
     "output_type": "stream",
     "text": [
      "total number of active user: 9\n"
     ]
    }
   ],
   "source": [
    "user =profiles[0]\n",
    "active_users = len([user for user in profiles if user [\"isActive\"]])\n",
    "print('total number of active user:', active_users)"
   ]
  },
  {
   "cell_type": "code",
   "execution_count": 13,
   "id": "d2fb0bbf",
   "metadata": {},
   "outputs": [
    {
     "name": "stdout",
     "output_type": "stream",
     "text": [
      "total number of active user: 19\n"
     ]
    }
   ],
   "source": [
    "inactive_users = len([user for users in profiles if user [\"isActive\"]== False])\n",
    "print('total number of active user:', inactive_users)"
   ]
  },
  {
   "cell_type": "code",
   "execution_count": 14,
   "id": "29f5d85d",
   "metadata": {},
   "outputs": [
    {
     "data": {
      "text/plain": [
       "' Grand total of balances for all users '"
      ]
     },
     "execution_count": 14,
     "metadata": {},
     "output_type": "execute_result"
    }
   ],
   "source": [
    "''' Grand total of balances for all users '''"
   ]
  },
  {
   "cell_type": "code",
   "execution_count": 35,
   "id": "48109978",
   "metadata": {},
   "outputs": [
    {
     "name": "stdout",
     "output_type": "stream",
     "text": [
      " 2097.20\n"
     ]
    }
   ],
   "source": [
    "## cleaning string \n",
    "string = '$2,097.20'\n",
    "# using replace to remove $ \n",
    "string = string.replace(\"$\", \" \")\n",
    "string = string.replace(\",\", \"\")\n",
    "print(string)\n",
    "string = float(string)\n",
    "\n",
    "\n",
    "\n"
   ]
  },
  {
   "cell_type": "code",
   "execution_count": 41,
   "id": "b8ef0fbb",
   "metadata": {},
   "outputs": [
    {
     "data": {
      "text/plain": [
       "10213.42"
      ]
     },
     "execution_count": 41,
     "metadata": {},
     "output_type": "execute_result"
    }
   ],
   "source": [
    "# cleaning and converting string to float(balance)\n",
    "def clean_balance(balance):\n",
    "    balance = balance.replace('$','')\n",
    "    balance = balance.replace(',','')\n",
    "    return float(balance)\n",
    "balances(\"$10,213.42\")\n",
    "\n",
    "\n",
    "\n",
    "    \n"
   ]
  },
  {
   "cell_type": "code",
   "execution_count": 43,
   "id": "e2a6757d",
   "metadata": {},
   "outputs": [],
   "source": [
    "# apply cleaning function to our data \n",
    "\n",
    "for profile in profiles:\n",
    "    profile['balance']= clean_balance(profile['balance'])"
   ]
  },
  {
   "cell_type": "code",
   "execution_count": 44,
   "id": "70d87509",
   "metadata": {},
   "outputs": [
    {
     "data": {
      "text/plain": [
       "{'_id': '54e23c3ed945981ba2580614',\n",
       " 'index': 18,\n",
       " 'guid': 'e608dc5c-fee4-4086-971b-3ebd37bfa137',\n",
       " 'isActive': True,\n",
       " 'balance': 2227.79,\n",
       " 'picture': 'http://placehold.it/32x32',\n",
       " 'age': 22,\n",
       " 'eyeColor': 'brown',\n",
       " 'name': 'Ewing Larson',\n",
       " 'gender': 'male',\n",
       " 'company': 'ESCENTA',\n",
       " 'email': 'ewinglarson@escenta.com',\n",
       " 'phone': '+1 (943) 439-3760',\n",
       " 'address': '136 Beard Street, Wattsville, New Hampshire, 2803',\n",
       " 'about': 'Veniam eiusmod exercitation culpa mollit reprehenderit ullamco voluptate voluptate irure qui duis anim et. Laborum dolor quis do voluptate. In pariatur dolor id mollit et enim. Qui ex qui in cillum irure enim non reprehenderit irure et excepteur aliquip eu eu.\\r\\n',\n",
       " 'registered': '2014-07-21T19:17:41 +05:00',\n",
       " 'latitude': 15.903555,\n",
       " 'longitude': -159.721203,\n",
       " 'tags': ['Lorem',\n",
       "  'magna',\n",
       "  'dolor',\n",
       "  'aliquip',\n",
       "  'reprehenderit',\n",
       "  'eu',\n",
       "  'voluptate'],\n",
       " 'friends': [{'id': 0, 'name': 'Suzette Huffman'},\n",
       "  {'id': 1, 'name': 'Paige Santiago'},\n",
       "  {'id': 2, 'name': 'Dollie Fernandez'}],\n",
       " 'greeting': 'Hello, Ewing Larson! You have 16 unread messages.',\n",
       " 'favoriteFruit': 'strawberry'}"
      ]
     },
     "execution_count": 44,
     "metadata": {},
     "output_type": "execute_result"
    }
   ],
   "source": [
    "profile"
   ]
  },
  {
   "cell_type": "code",
   "execution_count": 45,
   "id": "ceb24e6e",
   "metadata": {},
   "outputs": [
    {
     "name": "stdout",
     "output_type": "stream",
     "text": [
      "52667.02\n"
     ]
    }
   ],
   "source": [
    "\n",
    "\n",
    "total_balance = 0\n",
    "for profile in profiles: \n",
    "    total_balance += profile['balance']\n",
    "\n",
    "\n",
    "print(total_balance)"
   ]
  },
  {
   "cell_type": "code",
   "execution_count": 24,
   "id": "072eb96f",
   "metadata": {},
   "outputs": [
    {
     "data": {
      "text/plain": [
       "' Average balance per user'"
      ]
     },
     "execution_count": 24,
     "metadata": {},
     "output_type": "execute_result"
    }
   ],
   "source": [
    "''' Average balance per user'''"
   ]
  },
  {
   "cell_type": "code",
   "execution_count": 55,
   "id": "66eada09",
   "metadata": {},
   "outputs": [
    {
     "name": "stdout",
     "output_type": "stream",
     "text": [
      "2771.9484210526316\n"
     ]
    }
   ],
   "source": [
    "average_balance = total_balance / total_users\n",
    "print(average_balance)"
   ]
  },
  {
   "cell_type": "code",
   "execution_count": 49,
   "id": "e1c1a8d9",
   "metadata": {},
   "outputs": [
    {
     "data": {
      "text/plain": [
       "' User with the lowest balance '"
      ]
     },
     "execution_count": 49,
     "metadata": {},
     "output_type": "execute_result"
    }
   ],
   "source": [
    "''' User with the lowest balance '''"
   ]
  },
  {
   "cell_type": "code",
   "execution_count": 50,
   "id": "628c7e4d",
   "metadata": {},
   "outputs": [
    {
     "name": "stdout",
     "output_type": "stream",
     "text": [
      "{'_id': '54e23c3e0fd8074c2ca52667', 'index': 6, 'guid': 'af8d9a03-fde9-4039-b20c-c4708d4cfc3c', 'isActive': False, 'balance': 1214.1, 'picture': 'http://placehold.it/32x32', 'age': 35, 'eyeColor': 'green', 'name': 'Avery Flynn', 'gender': 'male', 'company': 'TERSANKI', 'email': 'averyflynn@tersanki.com', 'phone': '+1 (966) 404-2471', 'address': '569 Oakland Place, Beyerville, Puerto Rico, 2395', 'about': 'Minim consequat anim ad et tempor et pariatur cillum ut. Ea Lorem consectetur sunt aliquip ea minim minim id dolore incididunt qui magna. Magna velit labore dolore voluptate ut aliquip esse qui est ipsum cupidatat duis enim. Sunt esse eiusmod cupidatat duis quis sunt anim dolore adipisicing enim dolore aliqua mollit. Commodo sit ad eiusmod reprehenderit.\\r\\n', 'registered': '2014-04-13T10:25:03 +05:00', 'latitude': -89.879409, 'longitude': 143.441709, 'tags': ['quis', 'esse', 'Lorem', 'minim', 'nostrud', 'voluptate', 'laborum'], 'friends': [{'id': 0, 'name': 'Ball Henson'}, {'id': 1, 'name': 'Dalton Mccoy'}, {'id': 2, 'name': 'Carolina Sharp'}], 'greeting': 'Hello, Avery Flynn! You have 13 unread messages.', 'favoriteFruit': 'banana'}\n"
     ]
    }
   ],
   "source": [
    "lowest_balance = min(profiles, key =lambda profiles:profiles[\"balance\"])\n",
    "print(lowest_balance)"
   ]
  },
  {
   "cell_type": "code",
   "execution_count": null,
   "id": "b8b282ff",
   "metadata": {},
   "outputs": [],
   "source": [
    "\n",
    "''' User with the highest balance '''"
   ]
  },
  {
   "cell_type": "code",
   "execution_count": 51,
   "id": "1b6c41ae",
   "metadata": {},
   "outputs": [
    {
     "name": "stdout",
     "output_type": "stream",
     "text": [
      "{'_id': '54e23c3e54e4094147a3b1da', 'index': 3, 'guid': '69eb3454-8acc-46f1-a636-c6df00dfb542', 'isActive': False, 'balance': 3919.64, 'picture': 'http://placehold.it/32x32', 'age': 20, 'eyeColor': 'green', 'name': 'Fay Hammond', 'gender': 'female', 'company': 'INRT', 'email': 'fayhammond@inrt.com', 'phone': '+1 (922) 429-2592', 'address': '518 Randolph Street, Whitestone, Arizona, 8189', 'about': 'Aliqua sunt exercitation quis cupidatat fugiat nulla laboris occaecat ut reprehenderit qui incididunt. Amet excepteur qui amet mollit sint enim velit est dolor eu. Velit labore ea aute ipsum consequat culpa cupidatat excepteur aliqua. Sit commodo id est deserunt commodo. Labore sit deserunt enim in dolore incididunt. Officia qui est veniam cillum consequat minim duis Lorem esse magna culpa cupidatat cupidatat enim. Amet eiusmod elit qui reprehenderit commodo quis.\\r\\n', 'registered': '2015-01-30T08:05:38 +06:00', 'latitude': 33.825844, 'longitude': -65.969538, 'tags': ['aliqua', 'esse', 'sint', 'pariatur', 'commodo', 'do', 'anim'], 'friends': [{'id': 0, 'name': 'Dudley Booker'}, {'id': 1, 'name': 'Esmeralda Tyler'}, {'id': 2, 'name': 'Rosa Hampton'}], 'greeting': 'Hello, Fay Hammond! You have 10 unread messages.', 'favoriteFruit': 'banana'}\n"
     ]
    }
   ],
   "source": [
    "highest_balance = max(profiles, key =lambda profiles:profiles[\"balance\"])\n",
    "print(highest_balance)\n"
   ]
  },
  {
   "cell_type": "code",
   "execution_count": null,
   "id": "cdcddc57",
   "metadata": {},
   "outputs": [],
   "source": [
    "''' Most common favorite fruit'''"
   ]
  },
  {
   "cell_type": "code",
   "execution_count": 58,
   "id": "c0f1fdf8",
   "metadata": {},
   "outputs": [
    {
     "data": {
      "text/plain": [
       "['strawberry',\n",
       " 'apple',\n",
       " 'banana',\n",
       " 'banana',\n",
       " 'apple',\n",
       " 'apple',\n",
       " 'banana',\n",
       " 'strawberry',\n",
       " 'strawberry',\n",
       " 'banana',\n",
       " 'strawberry',\n",
       " 'strawberry',\n",
       " 'apple',\n",
       " 'strawberry',\n",
       " 'strawberry',\n",
       " 'banana',\n",
       " 'strawberry',\n",
       " 'banana',\n",
       " 'strawberry']"
      ]
     },
     "execution_count": 58,
     "metadata": {},
     "output_type": "execute_result"
    }
   ],
   "source": [
    "fruits = []\n",
    "for profile in profiles: \n",
    "    fruits.append(profile[\"favoriteFruit\"])\n",
    "fruits\n"
   ]
  },
  {
   "cell_type": "code",
   "execution_count": 59,
   "id": "7cf99fb2",
   "metadata": {},
   "outputs": [
    {
     "data": {
      "text/plain": [
       "{'apple', 'banana', 'strawberry'}"
      ]
     },
     "execution_count": 59,
     "metadata": {},
     "output_type": "execute_result"
    }
   ],
   "source": [
    "# using set \n",
    "set(fruits)"
   ]
  },
  {
   "cell_type": "code",
   "execution_count": 60,
   "id": "337ce2fe",
   "metadata": {},
   "outputs": [
    {
     "data": {
      "text/plain": [
       "'strawberry'"
      ]
     },
     "execution_count": 60,
     "metadata": {},
     "output_type": "execute_result"
    }
   ],
   "source": [
    "max(fruits, key=fruits.count)"
   ]
  },
  {
   "cell_type": "code",
   "execution_count": null,
   "id": "ad42546e",
   "metadata": {},
   "outputs": [],
   "source": [
    "# using collection libraries \n"
   ]
  },
  {
   "cell_type": "code",
   "execution_count": null,
   "id": "fd454314",
   "metadata": {},
   "outputs": [],
   "source": [
    "''' Least most common favorite fruit'''"
   ]
  },
  {
   "cell_type": "code",
   "execution_count": 61,
   "id": "09c89527",
   "metadata": {},
   "outputs": [
    {
     "data": {
      "text/plain": [
       "'apple'"
      ]
     },
     "execution_count": 61,
     "metadata": {},
     "output_type": "execute_result"
    }
   ],
   "source": [
    "min(fruits, key = fruits.count)"
   ]
  },
  {
   "cell_type": "code",
   "execution_count": null,
   "id": "68ef4524",
   "metadata": {},
   "outputs": [],
   "source": [
    "''' Total number of unread messages for all users'''"
   ]
  },
  {
   "cell_type": "code",
   "execution_count": 64,
   "id": "4db054b8",
   "metadata": {},
   "outputs": [],
   "source": [
    "greeting = \" helo, hebert Estes! you have 19 unread message\"\n",
    "unread = ''\n",
    "for character in greeting:\n",
    "    if character.isdigit():\n",
    "        unread+=character"
   ]
  },
  {
   "cell_type": "code",
   "execution_count": 66,
   "id": "782f1f0b",
   "metadata": {},
   "outputs": [
    {
     "data": {
      "text/plain": [
       "19"
      ]
     },
     "execution_count": 66,
     "metadata": {},
     "output_type": "execute_result"
    }
   ],
   "source": [
    "int(unread)"
   ]
  },
  {
   "cell_type": "code",
   "execution_count": 70,
   "id": "30728f22",
   "metadata": {},
   "outputs": [],
   "source": [
    "def unread(greeting):\n",
    "    output = ''\n",
    "    for character in greeting:\n",
    "        if character.isdigit():\n",
    "            output+= character \n",
    "    return int(output)"
   ]
  },
  {
   "cell_type": "code",
   "execution_count": 71,
   "id": "b6dd279f",
   "metadata": {},
   "outputs": [
    {
     "data": {
      "text/plain": [
       "19"
      ]
     },
     "execution_count": 71,
     "metadata": {},
     "output_type": "execute_result"
    }
   ],
   "source": [
    "unread(greeting)"
   ]
  },
  {
   "cell_type": "code",
   "execution_count": 72,
   "id": "645dce98",
   "metadata": {},
   "outputs": [
    {
     "name": "stdout",
     "output_type": "stream",
     "text": [
      "210\n"
     ]
    }
   ],
   "source": [
    "total_unread = 0\n",
    "for profile in profiles:\n",
    "    count = unread(profile['greeting'])\n",
    "    total_unread+= count\n",
    "\n",
    "print(total_unread)"
   ]
  },
  {
   "cell_type": "code",
   "execution_count": null,
   "id": "f5fd1f03",
   "metadata": {},
   "outputs": [],
   "source": []
  }
 ],
 "metadata": {
  "kernelspec": {
   "display_name": "Python 3",
   "language": "python",
   "name": "python3"
  },
  "language_info": {
   "codemirror_mode": {
    "name": "ipython",
    "version": 3
   },
   "file_extension": ".py",
   "mimetype": "text/x-python",
   "name": "python",
   "nbconvert_exporter": "python",
   "pygments_lexer": "ipython3",
   "version": "3.8.8"
  }
 },
 "nbformat": 4,
 "nbformat_minor": 5
}
