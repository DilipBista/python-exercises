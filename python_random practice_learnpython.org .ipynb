{
 "cells": [
  {
   "cell_type": "code",
   "execution_count": null,
   "id": "20a751e8",
   "metadata": {},
   "outputs": [],
   "source": [
    "# String Processing in Python from learnpython.org "
   ]
  },
  {
   "cell_type": "code",
   "execution_count": 2,
   "id": "d9999a89",
   "metadata": {},
   "outputs": [],
   "source": [
    "# Take a user's name, age and is passport number. Verify the user typed it in correct format"
   ]
  },
  {
   "cell_type": "code",
   "execution_count": 3,
   "id": "9b2686b0",
   "metadata": {},
   "outputs": [
    {
     "name": "stdout",
     "output_type": "stream",
     "text": [
      "Enter your name in all caps DILIP\n",
      "Enter your age 9\n",
      "Enter your password QAZ236QA\n",
      "Name is in upper case and contain alphabets only\n",
      "Age is also correct\n",
      "Passport is in correct format\n"
     ]
    }
   ],
   "source": [
    "Name = input(\"Enter your name in all caps \")\n",
    "Age = input(\"Enter your age \")\n",
    "Passport_number = input(\"Enter your password \")\n",
    "\n",
    "if Name.isalpha() and Name.isupper():\n",
    "  print(\"Name is in upper case and contain alphabets only\")\n",
    "else:\n",
    "  print(\"Name is not in correct format\")\n",
    "if (Age.isalnum()):\n",
    "  print(\"Age is also correct\")\n",
    "if(Passport_number.isalnum()):\n",
    "  print(\"Passport is in correct format\")\n",
    "else:\n",
    "  print(\"passport format is incorrect\")"
   ]
  },
  {
   "cell_type": "code",
   "execution_count": 4,
   "id": "52b5b674",
   "metadata": {},
   "outputs": [],
   "source": [
    "# Write a python program to find the number of letter i in a) Dilip , b) Joseph , c) Dan"
   ]
  },
  {
   "cell_type": "code",
   "execution_count": 6,
   "id": "38835d5c",
   "metadata": {},
   "outputs": [
    {
     "name": "stdout",
     "output_type": "stream",
     "text": [
      "Number of letter i in dilip is:2\n",
      "Number of letter i in Stephnie is:1\n",
      "Number of letter i in Dan is:0\n"
     ]
    }
   ],
   "source": [
    "a=\"Dilip\"\n",
    "b=\"Stephnie\"\n",
    "c=\"Dan\"\n",
    "counter = a.count('i')\n",
    "print(\"Number of letter i in dilip is:\"+str(counter))\n",
    "counter = b.count('i')\n",
    "print(\"Number of letter i in Stephnie is:\"+str(counter))\n",
    "counter = c.count('i')\n",
    "print(\"Number of letter i in Dan is:\"+str(counter))"
   ]
  },
  {
   "cell_type": "code",
   "execution_count": 7,
   "id": "cd65e764",
   "metadata": {},
   "outputs": [],
   "source": [
    "# 3. Write a Python program to add 'ing' at the end of a given string\n",
    "### Sample String 'cook'\n",
    "### Expected output: 'cooking'"
   ]
  },
  {
   "cell_type": "code",
   "execution_count": 8,
   "id": "95277d29",
   "metadata": {},
   "outputs": [
    {
     "name": "stdout",
     "output_type": "stream",
     "text": [
      "stringing\n",
      "playing\n"
     ]
    }
   ],
   "source": [
    "string = \"Dance\"\n",
    "add = \"ing\"\n",
    "print(\"string\"+str(add))\n",
    "\n",
    "\n",
    "a= \"play\"\n",
    "b= \"ing\"\n",
    "print(\"play\"+str(b))"
   ]
  },
  {
   "cell_type": "code",
   "execution_count": null,
   "id": "22089cea",
   "metadata": {},
   "outputs": [],
   "source": [
    "# if Elif Else statements "
   ]
  },
  {
   "cell_type": "code",
   "execution_count": 9,
   "id": "0915f8b1",
   "metadata": {},
   "outputs": [],
   "source": [
    " #write a program that takes input which represents the miles ran\n",
    "# and then states if the user ran more than a marathon\n",
    "# marathon equals 26.22 miles"
   ]
  },
  {
   "cell_type": "code",
   "execution_count": 10,
   "id": "64420c3f",
   "metadata": {},
   "outputs": [
    {
     "name": "stdout",
     "output_type": "stream",
     "text": [
      " Miles ran27\n",
      "ran more than marathon\n"
     ]
    }
   ],
   "source": [
    "a= input(\" Miles ran\")\n",
    "a= float (a)\n",
    "if a > 26.22:\n",
    "    print(\"ran more than marathon\")\n",
    "elif a== 26.22:\n",
    "            print(\" ran marathon\")\n",
    "else:\n",
    "    print(\"Went for run\")"
   ]
  },
  {
   "cell_type": "code",
   "execution_count": 11,
   "id": "ba57c227",
   "metadata": {},
   "outputs": [],
   "source": [
    "# While Loop "
   ]
  },
  {
   "cell_type": "code",
   "execution_count": 12,
   "id": "54460946",
   "metadata": {},
   "outputs": [
    {
     "name": "stdout",
     "output_type": "stream",
     "text": [
      "0 1 2 3 4 5 6 7 8 9 "
     ]
    }
   ],
   "source": [
    "i = 0\n",
    "while i < 10: \n",
    "    print(i, end=' ')\n",
    "    i += 1"
   ]
  },
  {
   "cell_type": "code",
   "execution_count": null,
   "id": "8af227a2",
   "metadata": {},
   "outputs": [],
   "source": [
    "# nesting for loops "
   ]
  },
  {
   "cell_type": "code",
   "execution_count": null,
   "id": "b699a570",
   "metadata": {},
   "outputs": [],
   "source": [
    "# print multiplication tables of 1 - 12\n"
   ]
  },
  {
   "cell_type": "code",
   "execution_count": 13,
   "id": "c500c9de",
   "metadata": {},
   "outputs": [
    {
     "name": "stdout",
     "output_type": "stream",
     "text": [
      "1 x 1 = 1\n",
      "1 x 2 = 2\n",
      "1 x 3 = 3\n",
      "1 x 4 = 4\n",
      "1 x 5 = 5\n",
      "1 x 6 = 6\n",
      "1 x 7 = 7\n",
      "1 x 8 = 8\n",
      "1 x 9 = 9\n",
      "1 x 10 = 10\n",
      "1 x 11 = 11\n",
      "1 x 12 = 12\n",
      "--------------\n",
      "2 x 1 = 2\n",
      "2 x 2 = 4\n",
      "2 x 3 = 6\n",
      "2 x 4 = 8\n",
      "2 x 5 = 10\n",
      "2 x 6 = 12\n",
      "2 x 7 = 14\n",
      "2 x 8 = 16\n",
      "2 x 9 = 18\n",
      "2 x 10 = 20\n",
      "2 x 11 = 22\n",
      "2 x 12 = 24\n",
      "--------------\n",
      "3 x 1 = 3\n",
      "3 x 2 = 6\n",
      "3 x 3 = 9\n",
      "3 x 4 = 12\n",
      "3 x 5 = 15\n",
      "3 x 6 = 18\n",
      "3 x 7 = 21\n",
      "3 x 8 = 24\n",
      "3 x 9 = 27\n",
      "3 x 10 = 30\n",
      "3 x 11 = 33\n",
      "3 x 12 = 36\n",
      "--------------\n",
      "4 x 1 = 4\n",
      "4 x 2 = 8\n",
      "4 x 3 = 12\n",
      "4 x 4 = 16\n",
      "4 x 5 = 20\n",
      "4 x 6 = 24\n",
      "4 x 7 = 28\n",
      "4 x 8 = 32\n",
      "4 x 9 = 36\n",
      "4 x 10 = 40\n",
      "4 x 11 = 44\n",
      "4 x 12 = 48\n",
      "--------------\n",
      "5 x 1 = 5\n",
      "5 x 2 = 10\n",
      "5 x 3 = 15\n",
      "5 x 4 = 20\n",
      "5 x 5 = 25\n",
      "5 x 6 = 30\n",
      "5 x 7 = 35\n",
      "5 x 8 = 40\n",
      "5 x 9 = 45\n",
      "5 x 10 = 50\n",
      "5 x 11 = 55\n",
      "5 x 12 = 60\n",
      "--------------\n",
      "6 x 1 = 6\n",
      "6 x 2 = 12\n",
      "6 x 3 = 18\n",
      "6 x 4 = 24\n",
      "6 x 5 = 30\n",
      "6 x 6 = 36\n",
      "6 x 7 = 42\n",
      "6 x 8 = 48\n",
      "6 x 9 = 54\n",
      "6 x 10 = 60\n",
      "6 x 11 = 66\n",
      "6 x 12 = 72\n",
      "--------------\n",
      "7 x 1 = 7\n",
      "7 x 2 = 14\n",
      "7 x 3 = 21\n",
      "7 x 4 = 28\n",
      "7 x 5 = 35\n",
      "7 x 6 = 42\n",
      "7 x 7 = 49\n",
      "7 x 8 = 56\n",
      "7 x 9 = 63\n",
      "7 x 10 = 70\n",
      "7 x 11 = 77\n",
      "7 x 12 = 84\n",
      "--------------\n",
      "8 x 1 = 8\n",
      "8 x 2 = 16\n",
      "8 x 3 = 24\n",
      "8 x 4 = 32\n",
      "8 x 5 = 40\n",
      "8 x 6 = 48\n",
      "8 x 7 = 56\n",
      "8 x 8 = 64\n",
      "8 x 9 = 72\n",
      "8 x 10 = 80\n",
      "8 x 11 = 88\n",
      "8 x 12 = 96\n",
      "--------------\n",
      "9 x 1 = 9\n",
      "9 x 2 = 18\n",
      "9 x 3 = 27\n",
      "9 x 4 = 36\n",
      "9 x 5 = 45\n",
      "9 x 6 = 54\n",
      "9 x 7 = 63\n",
      "9 x 8 = 72\n",
      "9 x 9 = 81\n",
      "9 x 10 = 90\n",
      "9 x 11 = 99\n",
      "9 x 12 = 108\n",
      "--------------\n",
      "10 x 1 = 10\n",
      "10 x 2 = 20\n",
      "10 x 3 = 30\n",
      "10 x 4 = 40\n",
      "10 x 5 = 50\n",
      "10 x 6 = 60\n",
      "10 x 7 = 70\n",
      "10 x 8 = 80\n",
      "10 x 9 = 90\n",
      "10 x 10 = 100\n",
      "10 x 11 = 110\n",
      "10 x 12 = 120\n",
      "--------------\n",
      "11 x 1 = 11\n",
      "11 x 2 = 22\n",
      "11 x 3 = 33\n",
      "11 x 4 = 44\n",
      "11 x 5 = 55\n",
      "11 x 6 = 66\n",
      "11 x 7 = 77\n",
      "11 x 8 = 88\n",
      "11 x 9 = 99\n",
      "11 x 10 = 110\n",
      "11 x 11 = 121\n",
      "11 x 12 = 132\n",
      "--------------\n",
      "12 x 1 = 12\n",
      "12 x 2 = 24\n",
      "12 x 3 = 36\n",
      "12 x 4 = 48\n",
      "12 x 5 = 60\n",
      "12 x 6 = 72\n",
      "12 x 7 = 84\n",
      "12 x 8 = 96\n",
      "12 x 9 = 108\n",
      "12 x 10 = 120\n",
      "12 x 11 = 132\n",
      "12 x 12 = 144\n",
      "--------------\n"
     ]
    }
   ],
   "source": [
    "for x in range(1, 13):\n",
    "    for y in range(1, 13):\n",
    "        print(x, 'x', y, '=', x * y)\n",
    "    print('--------------')"
   ]
  },
  {
   "cell_type": "code",
   "execution_count": 14,
   "id": "48435713",
   "metadata": {},
   "outputs": [],
   "source": [
    "# right triangle\n"
   ]
  },
  {
   "cell_type": "code",
   "execution_count": 15,
   "id": "e99165ce",
   "metadata": {},
   "outputs": [
    {
     "name": "stdout",
     "output_type": "stream",
     "text": [
      "\n",
      "* \n",
      "* * \n",
      "* * * \n",
      "* * * * \n",
      "* * * * * \n",
      "\n"
     ]
    }
   ],
   "source": [
    "for x in range(6):\n",
    "    for y in range(x):\n",
    "        print('*', end=' ')\n",
    "    print()\n",
    "print()"
   ]
  },
  {
   "cell_type": "code",
   "execution_count": 16,
   "id": "d8e080ec",
   "metadata": {},
   "outputs": [],
   "source": [
    "# calculating factorials of a number n"
   ]
  },
  {
   "cell_type": "code",
   "execution_count": 18,
   "id": "b4775d04",
   "metadata": {},
   "outputs": [
    {
     "name": "stdout",
     "output_type": "stream",
     "text": [
      "Enter a number n 4\n",
      "n = 24\n"
     ]
    }
   ],
   "source": [
    "n = int(input('Enter a number n '))\n",
    "count = n-1\n",
    "while count >= 1:\n",
    "    n *= count\n",
    "    count -= 1\n",
    "print('n =', n)"
   ]
  },
  {
   "cell_type": "code",
   "execution_count": null,
   "id": "adb3e702",
   "metadata": {},
   "outputs": [],
   "source": []
  },
  {
   "cell_type": "code",
   "execution_count": null,
   "id": "5ba076b1",
   "metadata": {},
   "outputs": [],
   "source": []
  }
 ],
 "metadata": {
  "kernelspec": {
   "display_name": "Python 3",
   "language": "python",
   "name": "python3"
  },
  "language_info": {
   "codemirror_mode": {
    "name": "ipython",
    "version": 3
   },
   "file_extension": ".py",
   "mimetype": "text/x-python",
   "name": "python",
   "nbconvert_exporter": "python",
   "pygments_lexer": "ipython3",
   "version": "3.8.8"
  }
 },
 "nbformat": 4,
 "nbformat_minor": 5
}
